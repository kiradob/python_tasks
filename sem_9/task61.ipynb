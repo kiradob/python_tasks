{
  "nbformat": 4,
  "nbformat_minor": 0,
  "metadata": {
    "colab": {
      "provenance": []
    },
    "kernelspec": {
      "name": "python3",
      "display_name": "Python 3"
    },
    "language_info": {
      "name": "python"
    }
  },
  "cells": [
    {
      "cell_type": "markdown",
      "source": [
        "#Задача №61. \n",
        "1. Определить какое максимальное и минимальное значение median_house_value\n",
        "2. Показать максимальное median_house_value, где median_income = 3.1250\n",
        "3. Узнать какая максимальная population в зоне минимального значения median_house_value"
      ],
      "metadata": {
        "id": "i4Ym0OfFKGiG"
      }
    },
    {
      "cell_type": "code",
      "source": [
        "import pandas as pd"
      ],
      "metadata": {
        "id": "96YF_I2LLUsy"
      },
      "execution_count": 2,
      "outputs": []
    },
    {
      "cell_type": "code",
      "source": [
        "df = pd.read_csv('sample_data/california_housing_test.csv')"
      ],
      "metadata": {
        "id": "YrA7gHKoLU6x"
      },
      "execution_count": 3,
      "outputs": []
    },
    {
      "cell_type": "markdown",
      "source": [
        "1. Определить какое максимальное и минимальное значение median_house_value"
      ],
      "metadata": {
        "id": "K5Kw_jBsLsrK"
      }
    },
    {
      "cell_type": "code",
      "source": [
        "print(df['median_house_value'].max())"
      ],
      "metadata": {
        "colab": {
          "base_uri": "https://localhost:8080/"
        },
        "id": "qnyrVUuoKOT8",
        "outputId": "c41895a0-9670-4f3a-b658-278709e05265"
      },
      "execution_count": 4,
      "outputs": [
        {
          "output_type": "stream",
          "name": "stdout",
          "text": [
            "500001.0\n"
          ]
        }
      ]
    },
    {
      "cell_type": "code",
      "source": [
        "print(df['median_house_value'].min())"
      ],
      "metadata": {
        "colab": {
          "base_uri": "https://localhost:8080/"
        },
        "id": "-sNMXBVXWHhR",
        "outputId": "8aa18995-850b-4838-fe6f-bcc1ba7f7861"
      },
      "execution_count": 5,
      "outputs": [
        {
          "output_type": "stream",
          "name": "stdout",
          "text": [
            "22500.0\n"
          ]
        }
      ]
    },
    {
      "cell_type": "markdown",
      "source": [
        "2. Показать максимальное median_house_value, где median_income = 3.1250"
      ],
      "metadata": {
        "id": "Eb8_thgBLxzR"
      }
    },
    {
      "cell_type": "code",
      "source": [
        "df['median_house_value'][df['median_income'] == 3.1250].max()"
      ],
      "metadata": {
        "colab": {
          "base_uri": "https://localhost:8080/"
        },
        "id": "G-r5j1yRLz6Z",
        "outputId": "771770f0-0be5-4179-c019-f6f103363a1d"
      },
      "execution_count": 8,
      "outputs": [
        {
          "output_type": "execute_result",
          "data": {
            "text/plain": [
              "233300.0"
            ]
          },
          "metadata": {},
          "execution_count": 8
        }
      ]
    },
    {
      "cell_type": "markdown",
      "source": [
        "3. Узнать какая максимальная population в зоне минимального значения median_house_value"
      ],
      "metadata": {
        "id": "Wt9AuBQsWX1o"
      }
    },
    {
      "cell_type": "code",
      "source": [
        "df.loc[df['median_house_value']==df['median_house_value'].min(),'population'].max()"
      ],
      "metadata": {
        "colab": {
          "base_uri": "https://localhost:8080/"
        },
        "id": "NxfBDDt4Wa8G",
        "outputId": "2f944dc1-54f5-4838-a779-4bac038553f9"
      },
      "execution_count": 11,
      "outputs": [
        {
          "output_type": "execute_result",
          "data": {
            "text/plain": [
              "1230.0"
            ]
          },
          "metadata": {},
          "execution_count": 11
        }
      ]
    }
  ]
}